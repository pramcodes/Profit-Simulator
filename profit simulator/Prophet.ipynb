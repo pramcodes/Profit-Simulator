{
 "cells": [
  {
   "cell_type": "markdown",
   "metadata": {},
   "source": [
    "# 1. Import Dependencies"
   ]
  },
  {
   "cell_type": "code",
   "execution_count": 1,
   "metadata": {},
   "outputs": [
    {
     "name": "stderr",
     "output_type": "stream",
     "text": [
      "C:\\Users\\prami\\AppData\\Local\\Temp\\ipykernel_4592\\4137083882.py:1: DeprecationWarning: \n",
      "Pyarrow will become a required dependency of pandas in the next major release of pandas (pandas 3.0),\n",
      "(to allow more performant data types, such as the Arrow string type, and better interoperability with other libraries)\n",
      "but was not found to be installed on your system.\n",
      "If this would cause problems for you,\n",
      "please provide us feedback at https://github.com/pandas-dev/pandas/issues/54466\n",
      "        \n",
      "  import pandas as pd # Import pandas\n",
      "c:\\Python312\\Lib\\site-packages\\tqdm\\auto.py:21: TqdmWarning: IProgress not found. Please update jupyter and ipywidgets. See https://ipywidgets.readthedocs.io/en/stable/user_install.html\n",
      "  from .autonotebook import tqdm as notebook_tqdm\n",
      "Importing plotly failed. Interactive plots will not work.\n"
     ]
    }
   ],
   "source": [
    "import pandas as pd # Import pandas\n",
    "from prophet import Prophet\n",
    "from scipy.stats import norm\n"
   ]
  },
  {
   "cell_type": "markdown",
   "metadata": {},
   "source": []
  },
  {
   "cell_type": "markdown",
   "metadata": {},
   "source": [
    "# 2. Load Data"
   ]
  },
  {
   "cell_type": "code",
   "execution_count": 2,
   "metadata": {},
   "outputs": [],
   "source": [
    "df = pd.read_csv('50_Startups.csv')"
   ]
  },
  {
   "cell_type": "code",
   "execution_count": 3,
   "metadata": {},
   "outputs": [
    {
     "data": {
      "text/html": [
       "<div>\n",
       "<style scoped>\n",
       "    .dataframe tbody tr th:only-of-type {\n",
       "        vertical-align: middle;\n",
       "    }\n",
       "\n",
       "    .dataframe tbody tr th {\n",
       "        vertical-align: top;\n",
       "    }\n",
       "\n",
       "    .dataframe thead th {\n",
       "        text-align: right;\n",
       "    }\n",
       "</style>\n",
       "<table border=\"1\" class=\"dataframe\">\n",
       "  <thead>\n",
       "    <tr style=\"text-align: right;\">\n",
       "      <th></th>\n",
       "      <th>Date</th>\n",
       "      <th>Profit</th>\n",
       "    </tr>\n",
       "  </thead>\n",
       "  <tbody>\n",
       "    <tr>\n",
       "      <th>0</th>\n",
       "      <td>20180101</td>\n",
       "      <td>192261.83</td>\n",
       "    </tr>\n",
       "    <tr>\n",
       "      <th>1</th>\n",
       "      <td>20180102</td>\n",
       "      <td>191792.06</td>\n",
       "    </tr>\n",
       "    <tr>\n",
       "      <th>2</th>\n",
       "      <td>20180103</td>\n",
       "      <td>191050.39</td>\n",
       "    </tr>\n",
       "    <tr>\n",
       "      <th>3</th>\n",
       "      <td>20180104</td>\n",
       "      <td>182901.99</td>\n",
       "    </tr>\n",
       "    <tr>\n",
       "      <th>4</th>\n",
       "      <td>20180105</td>\n",
       "      <td>166187.94</td>\n",
       "    </tr>\n",
       "  </tbody>\n",
       "</table>\n",
       "</div>"
      ],
      "text/plain": [
       "       Date     Profit\n",
       "0  20180101  192261.83\n",
       "1  20180102  191792.06\n",
       "2  20180103  191050.39\n",
       "3  20180104  182901.99\n",
       "4  20180105  166187.94"
      ]
     },
     "execution_count": 3,
     "metadata": {},
     "output_type": "execute_result"
    }
   ],
   "source": [
    "df.head()"
   ]
  },
  {
   "cell_type": "code",
   "execution_count": 4,
   "metadata": {},
   "outputs": [
    {
     "data": {
      "text/plain": [
       "Date        int64\n",
       "Profit    float64\n",
       "dtype: object"
      ]
     },
     "execution_count": 4,
     "metadata": {},
     "output_type": "execute_result"
    }
   ],
   "source": [
    "df.dtypes"
   ]
  },
  {
   "cell_type": "markdown",
   "metadata": {},
   "source": [
    "# 3. Apply Data Preprocessing"
   ]
  },
  {
   "cell_type": "code",
   "execution_count": 6,
   "metadata": {},
   "outputs": [
    {
     "name": "stdout",
     "output_type": "stream",
     "text": [
      "Parametric VaR at 95.0% confidence: 45714.8722830554\n"
     ]
    }
   ],
   "source": [
    "profit_data = df['Profit']\n",
    "\n",
    "# Calculate mean and standard deviation\n",
    "mean_return = profit_data.mean()\n",
    "std_dev = profit_data.std()\n",
    "\n",
    "# Set confidence level\n",
    "confidence_level = 0.95\n",
    "\n",
    "# Find the Z-score\n",
    "z_score = norm.ppf(confidence_level)\n",
    "\n",
    "# Calculate Parametric VaR\n",
    "parametric_var = mean_return - (z_score * std_dev)\n",
    "\n",
    "print(f\"Parametric VaR at {confidence_level * 100}% confidence: {parametric_var}\")"
   ]
  },
  {
   "cell_type": "code",
   "execution_count": 16,
   "metadata": {},
   "outputs": [],
   "source": [
    "df['Date'] = pd.to_datetime(df['Date'], format='%Y%m%d')"
   ]
  },
  {
   "cell_type": "code",
   "execution_count": 17,
   "metadata": {},
   "outputs": [],
   "source": [
    "frame = df.copy()"
   ]
  },
  {
   "cell_type": "code",
   "execution_count": 18,
   "metadata": {},
   "outputs": [],
   "source": [
    "frame.columns = ['ds', 'y']"
   ]
  },
  {
   "cell_type": "code",
   "execution_count": 19,
   "metadata": {},
   "outputs": [
    {
     "data": {
      "text/html": [
       "<div>\n",
       "<style scoped>\n",
       "    .dataframe tbody tr th:only-of-type {\n",
       "        vertical-align: middle;\n",
       "    }\n",
       "\n",
       "    .dataframe tbody tr th {\n",
       "        vertical-align: top;\n",
       "    }\n",
       "\n",
       "    .dataframe thead th {\n",
       "        text-align: right;\n",
       "    }\n",
       "</style>\n",
       "<table border=\"1\" class=\"dataframe\">\n",
       "  <thead>\n",
       "    <tr style=\"text-align: right;\">\n",
       "      <th></th>\n",
       "      <th>ds</th>\n",
       "      <th>y</th>\n",
       "    </tr>\n",
       "  </thead>\n",
       "  <tbody>\n",
       "    <tr>\n",
       "      <th>0</th>\n",
       "      <td>2018-01-01</td>\n",
       "      <td>192261.83</td>\n",
       "    </tr>\n",
       "    <tr>\n",
       "      <th>1</th>\n",
       "      <td>2018-01-02</td>\n",
       "      <td>191792.06</td>\n",
       "    </tr>\n",
       "    <tr>\n",
       "      <th>2</th>\n",
       "      <td>2018-01-03</td>\n",
       "      <td>191050.39</td>\n",
       "    </tr>\n",
       "    <tr>\n",
       "      <th>3</th>\n",
       "      <td>2018-01-04</td>\n",
       "      <td>182901.99</td>\n",
       "    </tr>\n",
       "    <tr>\n",
       "      <th>4</th>\n",
       "      <td>2018-01-05</td>\n",
       "      <td>166187.94</td>\n",
       "    </tr>\n",
       "  </tbody>\n",
       "</table>\n",
       "</div>"
      ],
      "text/plain": [
       "          ds          y\n",
       "0 2018-01-01  192261.83\n",
       "1 2018-01-02  191792.06\n",
       "2 2018-01-03  191050.39\n",
       "3 2018-01-04  182901.99\n",
       "4 2018-01-05  166187.94"
      ]
     },
     "execution_count": 19,
     "metadata": {},
     "output_type": "execute_result"
    }
   ],
   "source": [
    "frame.head()"
   ]
  },
  {
   "cell_type": "markdown",
   "metadata": {},
   "source": [
    "# 4. Create Time Series Model"
   ]
  },
  {
   "cell_type": "code",
   "execution_count": 20,
   "metadata": {},
   "outputs": [],
   "source": [
    "m = Prophet(interval_width=0.95) "
   ]
  },
  {
   "cell_type": "code",
   "execution_count": 21,
   "metadata": {},
   "outputs": [
    {
     "name": "stderr",
     "output_type": "stream",
     "text": [
      "09:36:40 - cmdstanpy - INFO - Chain [1] start processing\n",
      "09:36:41 - cmdstanpy - INFO - Chain [1] done processing\n"
     ]
    }
   ],
   "source": [
    "training_run = m.fit(frame)"
   ]
  },
  {
   "cell_type": "markdown",
   "metadata": {},
   "source": [
    "# 5. Evaluate Model"
   ]
  },
  {
   "cell_type": "code",
   "execution_count": 22,
   "metadata": {},
   "outputs": [],
   "source": [
    "future = m.make_future_dataframe(periods=20, freq='D')"
   ]
  },
  {
   "cell_type": "code",
   "execution_count": 23,
   "metadata": {},
   "outputs": [],
   "source": [
    "forecast = m.predict(future)"
   ]
  },
  {
   "cell_type": "code",
   "execution_count": 24,
   "metadata": {},
   "outputs": [
    {
     "data": {
      "text/html": [
       "<div>\n",
       "<style scoped>\n",
       "    .dataframe tbody tr th:only-of-type {\n",
       "        vertical-align: middle;\n",
       "    }\n",
       "\n",
       "    .dataframe tbody tr th {\n",
       "        vertical-align: top;\n",
       "    }\n",
       "\n",
       "    .dataframe thead th {\n",
       "        text-align: right;\n",
       "    }\n",
       "</style>\n",
       "<table border=\"1\" class=\"dataframe\">\n",
       "  <thead>\n",
       "    <tr style=\"text-align: right;\">\n",
       "      <th></th>\n",
       "      <th>ds</th>\n",
       "      <th>trend</th>\n",
       "      <th>yhat_lower</th>\n",
       "      <th>yhat_upper</th>\n",
       "      <th>trend_lower</th>\n",
       "      <th>trend_upper</th>\n",
       "      <th>additive_terms</th>\n",
       "      <th>additive_terms_lower</th>\n",
       "      <th>additive_terms_upper</th>\n",
       "      <th>weekly</th>\n",
       "      <th>weekly_lower</th>\n",
       "      <th>weekly_upper</th>\n",
       "      <th>multiplicative_terms</th>\n",
       "      <th>multiplicative_terms_lower</th>\n",
       "      <th>multiplicative_terms_upper</th>\n",
       "      <th>yhat</th>\n",
       "    </tr>\n",
       "  </thead>\n",
       "  <tbody>\n",
       "    <tr>\n",
       "      <th>0</th>\n",
       "      <td>2018-01-01</td>\n",
       "      <td>186988.088003</td>\n",
       "      <td>175458.692691</td>\n",
       "      <td>195384.074441</td>\n",
       "      <td>186988.088003</td>\n",
       "      <td>186988.088003</td>\n",
       "      <td>-2053.693421</td>\n",
       "      <td>-2053.693421</td>\n",
       "      <td>-2053.693421</td>\n",
       "      <td>-2053.693421</td>\n",
       "      <td>-2053.693421</td>\n",
       "      <td>-2053.693421</td>\n",
       "      <td>0.0</td>\n",
       "      <td>0.0</td>\n",
       "      <td>0.0</td>\n",
       "      <td>184934.394582</td>\n",
       "    </tr>\n",
       "    <tr>\n",
       "      <th>1</th>\n",
       "      <td>2018-01-02</td>\n",
       "      <td>183061.473641</td>\n",
       "      <td>173706.842764</td>\n",
       "      <td>194418.156687</td>\n",
       "      <td>183061.473641</td>\n",
       "      <td>183061.473641</td>\n",
       "      <td>1257.416782</td>\n",
       "      <td>1257.416782</td>\n",
       "      <td>1257.416782</td>\n",
       "      <td>1257.416782</td>\n",
       "      <td>1257.416782</td>\n",
       "      <td>1257.416782</td>\n",
       "      <td>0.0</td>\n",
       "      <td>0.0</td>\n",
       "      <td>0.0</td>\n",
       "      <td>184318.890423</td>\n",
       "    </tr>\n",
       "    <tr>\n",
       "      <th>2</th>\n",
       "      <td>2018-01-03</td>\n",
       "      <td>179134.859278</td>\n",
       "      <td>170663.690507</td>\n",
       "      <td>191011.523328</td>\n",
       "      <td>179134.859278</td>\n",
       "      <td>179134.859278</td>\n",
       "      <td>2154.184885</td>\n",
       "      <td>2154.184885</td>\n",
       "      <td>2154.184885</td>\n",
       "      <td>2154.184885</td>\n",
       "      <td>2154.184885</td>\n",
       "      <td>2154.184885</td>\n",
       "      <td>0.0</td>\n",
       "      <td>0.0</td>\n",
       "      <td>0.0</td>\n",
       "      <td>181289.044163</td>\n",
       "    </tr>\n",
       "    <tr>\n",
       "      <th>3</th>\n",
       "      <td>2018-01-04</td>\n",
       "      <td>175208.244917</td>\n",
       "      <td>166885.942967</td>\n",
       "      <td>186173.017860</td>\n",
       "      <td>175208.244917</td>\n",
       "      <td>175208.244917</td>\n",
       "      <td>1491.088545</td>\n",
       "      <td>1491.088545</td>\n",
       "      <td>1491.088545</td>\n",
       "      <td>1491.088545</td>\n",
       "      <td>1491.088545</td>\n",
       "      <td>1491.088545</td>\n",
       "      <td>0.0</td>\n",
       "      <td>0.0</td>\n",
       "      <td>0.0</td>\n",
       "      <td>176699.333462</td>\n",
       "    </tr>\n",
       "    <tr>\n",
       "      <th>4</th>\n",
       "      <td>2018-01-05</td>\n",
       "      <td>171281.630556</td>\n",
       "      <td>160216.739906</td>\n",
       "      <td>181189.151367</td>\n",
       "      <td>171281.630556</td>\n",
       "      <td>171281.630556</td>\n",
       "      <td>-815.734459</td>\n",
       "      <td>-815.734459</td>\n",
       "      <td>-815.734459</td>\n",
       "      <td>-815.734459</td>\n",
       "      <td>-815.734459</td>\n",
       "      <td>-815.734459</td>\n",
       "      <td>0.0</td>\n",
       "      <td>0.0</td>\n",
       "      <td>0.0</td>\n",
       "      <td>170465.896097</td>\n",
       "    </tr>\n",
       "  </tbody>\n",
       "</table>\n",
       "</div>"
      ],
      "text/plain": [
       "          ds          trend     yhat_lower     yhat_upper    trend_lower  \\\n",
       "0 2018-01-01  186988.088003  175458.692691  195384.074441  186988.088003   \n",
       "1 2018-01-02  183061.473641  173706.842764  194418.156687  183061.473641   \n",
       "2 2018-01-03  179134.859278  170663.690507  191011.523328  179134.859278   \n",
       "3 2018-01-04  175208.244917  166885.942967  186173.017860  175208.244917   \n",
       "4 2018-01-05  171281.630556  160216.739906  181189.151367  171281.630556   \n",
       "\n",
       "     trend_upper  additive_terms  additive_terms_lower  additive_terms_upper  \\\n",
       "0  186988.088003    -2053.693421          -2053.693421          -2053.693421   \n",
       "1  183061.473641     1257.416782           1257.416782           1257.416782   \n",
       "2  179134.859278     2154.184885           2154.184885           2154.184885   \n",
       "3  175208.244917     1491.088545           1491.088545           1491.088545   \n",
       "4  171281.630556     -815.734459           -815.734459           -815.734459   \n",
       "\n",
       "        weekly  weekly_lower  weekly_upper  multiplicative_terms  \\\n",
       "0 -2053.693421  -2053.693421  -2053.693421                   0.0   \n",
       "1  1257.416782   1257.416782   1257.416782                   0.0   \n",
       "2  2154.184885   2154.184885   2154.184885                   0.0   \n",
       "3  1491.088545   1491.088545   1491.088545                   0.0   \n",
       "4  -815.734459   -815.734459   -815.734459                   0.0   \n",
       "\n",
       "   multiplicative_terms_lower  multiplicative_terms_upper           yhat  \n",
       "0                         0.0                         0.0  184934.394582  \n",
       "1                         0.0                         0.0  184318.890423  \n",
       "2                         0.0                         0.0  181289.044163  \n",
       "3                         0.0                         0.0  176699.333462  \n",
       "4                         0.0                         0.0  170465.896097  "
      ]
     },
     "execution_count": 24,
     "metadata": {},
     "output_type": "execute_result"
    }
   ],
   "source": [
    "forecast.head()"
   ]
  },
  {
   "cell_type": "code",
   "execution_count": 28,
   "metadata": {},
   "outputs": [
    {
     "name": "stderr",
     "output_type": "stream",
     "text": [
      "c:\\Python312\\Lib\\site-packages\\prophet\\plot.py:72: FutureWarning: The behavior of DatetimeProperties.to_pydatetime is deprecated, in a future version this will return a Series containing python datetime objects instead of an ndarray. To retain the old behavior, call `np.array` on the result\n",
      "  fcst_t = fcst['ds'].dt.to_pydatetime()\n",
      "c:\\Python312\\Lib\\site-packages\\prophet\\plot.py:73: FutureWarning: The behavior of DatetimeProperties.to_pydatetime is deprecated, in a future version this will return a Series containing python datetime objects instead of an ndarray. To retain the old behavior, call `np.array` on the result\n",
      "  ax.plot(m.history['ds'].dt.to_pydatetime(), m.history['y'], 'k.',\n"
     ]
    },
    {
     "data": {
      "image/png": "[encoded data removed]",
      "text/plain": [
       "<Figure size 1000x600 with 1 Axes>"
      ]
     },
     "metadata": {},
     "output_type": "display_data"
    }
   ],
   "source": [
    "plot1 = m.plot(forecast)"
   ]
  },
  {
   "cell_type": "code",
   "execution_count": 30,
   "metadata": {},
   "outputs": [],
   "source": [
    "plot1.savefig(\"Profit pic\")"
   ]
  },
  {
   "cell_type": "code",
   "execution_count": 26,
   "metadata": {},
   "outputs": [
    {
     "name": "stderr",
     "output_type": "stream",
     "text": [
      "c:\\Python312\\Lib\\site-packages\\prophet\\plot.py:228: FutureWarning: The behavior of DatetimeProperties.to_pydatetime is deprecated, in a future version this will return a Series containing python datetime objects instead of an ndarray. To retain the old behavior, call `np.array` on the result\n",
      "  fcst_t = fcst['ds'].dt.to_pydatetime()\n"
     ]
    },
    {
     "data": {
      "image/png": "[encoded data removed]",
      "text/plain": [
       "<Figure size 900x600 with 2 Axes>"
      ]
     },
     "metadata": {},
     "output_type": "display_data"
    }
   ],
   "source": [
    "plot2 = m.plot_components(forecast)"
   ]
  },
  {
   "cell_type": "markdown",
   "metadata": {},
   "source": [
    "# BONUS ROUND - Scaling Up"
   ]
  },
  {
   "cell_type": "code",
   "execution_count": 17,
   "metadata": {},
   "outputs": [],
   "source": [
    "lines = df['Store/Product'].unique()"
   ]
  },
  {
   "cell_type": "code",
   "execution_count": 18,
   "metadata": {},
   "outputs": [
    {
     "data": {
      "text/html": [
       "<div>\n",
       "<style scoped>\n",
       "    .dataframe tbody tr th:only-of-type {\n",
       "        vertical-align: middle;\n",
       "    }\n",
       "\n",
       "    .dataframe tbody tr th {\n",
       "        vertical-align: top;\n",
       "    }\n",
       "\n",
       "    .dataframe thead th {\n",
       "        text-align: right;\n",
       "    }\n",
       "</style>\n",
       "<table border=\"1\" class=\"dataframe\">\n",
       "  <thead>\n",
       "    <tr style=\"text-align: right;\">\n",
       "      <th></th>\n",
       "      <th>Date</th>\n",
       "      <th>Store/Product</th>\n",
       "      <th>Value</th>\n",
       "    </tr>\n",
       "  </thead>\n",
       "  <tbody>\n",
       "    <tr>\n",
       "      <th>2160</th>\n",
       "      <td>2018-01-01</td>\n",
       "      <td>SAN_FRANCISCO-TESLA_MODEL_S</td>\n",
       "      <td>2679.400000</td>\n",
       "    </tr>\n",
       "    <tr>\n",
       "      <th>2161</th>\n",
       "      <td>2018-01-02</td>\n",
       "      <td>SAN_FRANCISCO-TESLA_MODEL_S</td>\n",
       "      <td>2466.777900</td>\n",
       "    </tr>\n",
       "    <tr>\n",
       "      <th>2162</th>\n",
       "      <td>2018-01-03</td>\n",
       "      <td>SAN_FRANCISCO-TESLA_MODEL_S</td>\n",
       "      <td>2562.700000</td>\n",
       "    </tr>\n",
       "    <tr>\n",
       "      <th>2163</th>\n",
       "      <td>2018-01-04</td>\n",
       "      <td>SAN_FRANCISCO-TESLA_MODEL_S</td>\n",
       "      <td>2203.600000</td>\n",
       "    </tr>\n",
       "    <tr>\n",
       "      <th>2164</th>\n",
       "      <td>2018-01-05</td>\n",
       "      <td>SAN_FRANCISCO-TESLA_MODEL_S</td>\n",
       "      <td>2441.000000</td>\n",
       "    </tr>\n",
       "    <tr>\n",
       "      <th>...</th>\n",
       "      <td>...</td>\n",
       "      <td>...</td>\n",
       "      <td>...</td>\n",
       "    </tr>\n",
       "    <tr>\n",
       "      <th>3235</th>\n",
       "      <td>2020-12-12</td>\n",
       "      <td>SAN_FRANCISCO-TESLA_MODEL_S</td>\n",
       "      <td>2899.835050</td>\n",
       "    </tr>\n",
       "    <tr>\n",
       "      <th>3236</th>\n",
       "      <td>2020-12-13</td>\n",
       "      <td>SAN_FRANCISCO-TESLA_MODEL_S</td>\n",
       "      <td>2896.835050</td>\n",
       "    </tr>\n",
       "    <tr>\n",
       "      <th>3237</th>\n",
       "      <td>2020-12-14</td>\n",
       "      <td>SAN_FRANCISCO-TESLA_MODEL_S</td>\n",
       "      <td>3094.019060</td>\n",
       "    </tr>\n",
       "    <tr>\n",
       "      <th>3238</th>\n",
       "      <td>2020-12-15</td>\n",
       "      <td>SAN_FRANCISCO-TESLA_MODEL_S</td>\n",
       "      <td>2492.132196</td>\n",
       "    </tr>\n",
       "    <tr>\n",
       "      <th>3239</th>\n",
       "      <td>2020-12-16</td>\n",
       "      <td>SAN_FRANCISCO-TESLA_MODEL_S</td>\n",
       "      <td>2374.531596</td>\n",
       "    </tr>\n",
       "  </tbody>\n",
       "</table>\n",
       "<p>1080 rows × 3 columns</p>\n",
       "</div>"
      ],
      "text/plain": [
       "           Date                Store/Product        Value\n",
       "2160 2018-01-01  SAN_FRANCISCO-TESLA_MODEL_S  2679.400000\n",
       "2161 2018-01-02  SAN_FRANCISCO-TESLA_MODEL_S  2466.777900\n",
       "2162 2018-01-03  SAN_FRANCISCO-TESLA_MODEL_S  2562.700000\n",
       "2163 2018-01-04  SAN_FRANCISCO-TESLA_MODEL_S  2203.600000\n",
       "2164 2018-01-05  SAN_FRANCISCO-TESLA_MODEL_S  2441.000000\n",
       "...         ...                          ...          ...\n",
       "3235 2020-12-12  SAN_FRANCISCO-TESLA_MODEL_S  2899.835050\n",
       "3236 2020-12-13  SAN_FRANCISCO-TESLA_MODEL_S  2896.835050\n",
       "3237 2020-12-14  SAN_FRANCISCO-TESLA_MODEL_S  3094.019060\n",
       "3238 2020-12-15  SAN_FRANCISCO-TESLA_MODEL_S  2492.132196\n",
       "3239 2020-12-16  SAN_FRANCISCO-TESLA_MODEL_S  2374.531596\n",
       "\n",
       "[1080 rows x 3 columns]"
      ]
     },
     "execution_count": 18,
     "metadata": {},
     "output_type": "execute_result"
    }
   ],
   "source": [
    "df[df['Store/Product']=='SAN_FRANCISCO-TESLA_MODEL_S']"
   ]
  },
  {
   "cell_type": "code",
   "execution_count": 19,
   "metadata": {},
   "outputs": [
    {
     "name": "stdout",
     "output_type": "stream",
     "text": [
      "           Date              Store/Product        Value\n",
      "1075 2020-12-12  LOS_ANGELES-TESLA_MODEL_X  3167.594500\n",
      "1076 2020-12-13  LOS_ANGELES-TESLA_MODEL_X  3167.594500\n",
      "1077 2020-12-14  LOS_ANGELES-TESLA_MODEL_X  3383.354511\n",
      "1078 2020-12-15  LOS_ANGELES-TESLA_MODEL_X  2714.591329\n",
      "1079 2020-12-16  LOS_ANGELES-TESLA_MODEL_X  2585.035107\n",
      "           Date              Store/Product        Value\n",
      "2155 2020-12-12  LOS_ANGELES-TESLA_MODEL_S  3501.353950\n",
      "2156 2020-12-13  LOS_ANGELES-TESLA_MODEL_S  3505.353950\n",
      "2157 2020-12-14  LOS_ANGELES-TESLA_MODEL_S  3751.689962\n",
      "2158 2020-12-15  LOS_ANGELES-TESLA_MODEL_S  3008.050462\n",
      "2159 2020-12-16  LOS_ANGELES-TESLA_MODEL_S  2866.538618\n",
      "           Date                Store/Product        Value\n",
      "3235 2020-12-12  SAN_FRANCISCO-TESLA_MODEL_S  2899.835050\n",
      "3236 2020-12-13  SAN_FRANCISCO-TESLA_MODEL_S  2896.835050\n",
      "3237 2020-12-14  SAN_FRANCISCO-TESLA_MODEL_S  3094.019060\n",
      "3238 2020-12-15  SAN_FRANCISCO-TESLA_MODEL_S  2492.132196\n",
      "3239 2020-12-16  SAN_FRANCISCO-TESLA_MODEL_S  2374.531596\n"
     ]
    }
   ],
   "source": [
    "for stock_line in lines: \n",
    "    frame = df[df['Store/Product'] == stock_line].copy()\n",
    "    print(frame.tail())"
   ]
  },
  {
   "cell_type": "code",
   "execution_count": 20,
   "metadata": {},
   "outputs": [
    {
     "data": {
      "text/plain": [
       "array(['LOS_ANGELES-TESLA_MODEL_X', 'LOS_ANGELES-TESLA_MODEL_S',\n",
       "       'SAN_FRANCISCO-TESLA_MODEL_S'], dtype=object)"
      ]
     },
     "execution_count": 20,
     "metadata": {},
     "output_type": "execute_result"
    }
   ],
   "source": [
    "lines"
   ]
  },
  {
   "cell_type": "code",
   "execution_count": 21,
   "metadata": {},
   "outputs": [
    {
     "name": "stderr",
     "output_type": "stream",
     "text": [
      "08:42:56 - cmdstanpy - INFO - Chain [1] start processing\n",
      "08:42:56 - cmdstanpy - INFO - Chain [1] done processing\n",
      "08:42:57 - cmdstanpy - INFO - Chain [1] start processing\n",
      "08:42:57 - cmdstanpy - INFO - Chain [1] done processing\n",
      "08:42:57 - cmdstanpy - INFO - Chain [1] start processing\n",
      "08:42:57 - cmdstanpy - INFO - Chain [1] done processing\n"
     ]
    }
   ],
   "source": [
    "fit_models = {}\n",
    "for stock_line in lines: \n",
    "    frame = df[df['Store/Product'] == stock_line].copy()\n",
    "    frame.drop('Store/Product', axis=1, inplace=True)\n",
    "    frame.columns = ['ds', 'y']\n",
    "    \n",
    "    m = Prophet(interval_width=0.95)\n",
    "    model = m.fit(frame)\n",
    "    \n",
    "    fit_models[stock_line] = m "
   ]
  },
  {
   "cell_type": "code",
   "execution_count": 22,
   "metadata": {},
   "outputs": [
    {
     "data": {
      "text/plain": [
       "{'LOS_ANGELES-TESLA_MODEL_X': <prophet.forecaster.Prophet at 0x2395042dc70>,\n",
       " 'LOS_ANGELES-TESLA_MODEL_S': <prophet.forecaster.Prophet at 0x239501d9e80>,\n",
       " 'SAN_FRANCISCO-TESLA_MODEL_S': <prophet.forecaster.Prophet at 0x239524a04d0>}"
      ]
     },
     "execution_count": 22,
     "metadata": {},
     "output_type": "execute_result"
    }
   ],
   "source": [
    "fit_models"
   ]
  },
  {
   "cell_type": "code",
   "execution_count": 23,
   "metadata": {},
   "outputs": [],
   "source": [
    "forward = fit_models['LOS_ANGELES-TESLA_MODEL_S'].make_future_dataframe(200)\n",
    "forecast = fit_models['LOS_ANGELES-TESLA_MODEL_S'].predict(forward)"
   ]
  },
  {
   "cell_type": "code",
   "execution_count": 24,
   "metadata": {
    "scrolled": true
   },
   "outputs": [
    {
     "data": {
      "text/html": [
       "<div>\n",
       "<style scoped>\n",
       "    .dataframe tbody tr th:only-of-type {\n",
       "        vertical-align: middle;\n",
       "    }\n",
       "\n",
       "    .dataframe tbody tr th {\n",
       "        vertical-align: top;\n",
       "    }\n",
       "\n",
       "    .dataframe thead th {\n",
       "        text-align: right;\n",
       "    }\n",
       "</style>\n",
       "<table border=\"1\" class=\"dataframe\">\n",
       "  <thead>\n",
       "    <tr style=\"text-align: right;\">\n",
       "      <th></th>\n",
       "      <th>ds</th>\n",
       "      <th>trend</th>\n",
       "      <th>yhat_lower</th>\n",
       "      <th>yhat_upper</th>\n",
       "      <th>trend_lower</th>\n",
       "      <th>trend_upper</th>\n",
       "      <th>additive_terms</th>\n",
       "      <th>additive_terms_lower</th>\n",
       "      <th>additive_terms_upper</th>\n",
       "      <th>weekly</th>\n",
       "      <th>weekly_lower</th>\n",
       "      <th>weekly_upper</th>\n",
       "      <th>yearly</th>\n",
       "      <th>yearly_lower</th>\n",
       "      <th>yearly_upper</th>\n",
       "      <th>multiplicative_terms</th>\n",
       "      <th>multiplicative_terms_lower</th>\n",
       "      <th>multiplicative_terms_upper</th>\n",
       "      <th>yhat</th>\n",
       "    </tr>\n",
       "  </thead>\n",
       "  <tbody>\n",
       "    <tr>\n",
       "      <th>0</th>\n",
       "      <td>2018-01-01</td>\n",
       "      <td>3884.323862</td>\n",
       "      <td>1004.042199</td>\n",
       "      <td>4245.354944</td>\n",
       "      <td>3884.323862</td>\n",
       "      <td>3884.323862</td>\n",
       "      <td>-1220.485729</td>\n",
       "      <td>-1220.485729</td>\n",
       "      <td>-1220.485729</td>\n",
       "      <td>18.334198</td>\n",
       "      <td>18.334198</td>\n",
       "      <td>18.334198</td>\n",
       "      <td>-1238.819927</td>\n",
       "      <td>-1238.819927</td>\n",
       "      <td>-1238.819927</td>\n",
       "      <td>0.0</td>\n",
       "      <td>0.0</td>\n",
       "      <td>0.0</td>\n",
       "      <td>2663.838133</td>\n",
       "    </tr>\n",
       "    <tr>\n",
       "      <th>1</th>\n",
       "      <td>2018-01-02</td>\n",
       "      <td>3885.153272</td>\n",
       "      <td>948.660742</td>\n",
       "      <td>4442.341275</td>\n",
       "      <td>3885.153272</td>\n",
       "      <td>3885.153272</td>\n",
       "      <td>-1231.651966</td>\n",
       "      <td>-1231.651966</td>\n",
       "      <td>-1231.651966</td>\n",
       "      <td>-12.211041</td>\n",
       "      <td>-12.211041</td>\n",
       "      <td>-12.211041</td>\n",
       "      <td>-1219.440925</td>\n",
       "      <td>-1219.440925</td>\n",
       "      <td>-1219.440925</td>\n",
       "      <td>0.0</td>\n",
       "      <td>0.0</td>\n",
       "      <td>0.0</td>\n",
       "      <td>2653.501305</td>\n",
       "    </tr>\n",
       "    <tr>\n",
       "      <th>2</th>\n",
       "      <td>2018-01-03</td>\n",
       "      <td>3885.982682</td>\n",
       "      <td>828.268327</td>\n",
       "      <td>4318.937338</td>\n",
       "      <td>3885.982682</td>\n",
       "      <td>3885.982682</td>\n",
       "      <td>-1203.469470</td>\n",
       "      <td>-1203.469470</td>\n",
       "      <td>-1203.469470</td>\n",
       "      <td>-4.710806</td>\n",
       "      <td>-4.710806</td>\n",
       "      <td>-4.710806</td>\n",
       "      <td>-1198.758664</td>\n",
       "      <td>-1198.758664</td>\n",
       "      <td>-1198.758664</td>\n",
       "      <td>0.0</td>\n",
       "      <td>0.0</td>\n",
       "      <td>0.0</td>\n",
       "      <td>2682.513212</td>\n",
       "    </tr>\n",
       "    <tr>\n",
       "      <th>3</th>\n",
       "      <td>2018-01-04</td>\n",
       "      <td>3886.812092</td>\n",
       "      <td>947.318744</td>\n",
       "      <td>4472.868860</td>\n",
       "      <td>3886.812092</td>\n",
       "      <td>3886.812092</td>\n",
       "      <td>-1152.207848</td>\n",
       "      <td>-1152.207848</td>\n",
       "      <td>-1152.207848</td>\n",
       "      <td>24.647268</td>\n",
       "      <td>24.647268</td>\n",
       "      <td>24.647268</td>\n",
       "      <td>-1176.855117</td>\n",
       "      <td>-1176.855117</td>\n",
       "      <td>-1176.855117</td>\n",
       "      <td>0.0</td>\n",
       "      <td>0.0</td>\n",
       "      <td>0.0</td>\n",
       "      <td>2734.604244</td>\n",
       "    </tr>\n",
       "    <tr>\n",
       "      <th>4</th>\n",
       "      <td>2018-01-05</td>\n",
       "      <td>3887.641502</td>\n",
       "      <td>956.896905</td>\n",
       "      <td>4381.673170</td>\n",
       "      <td>3887.641502</td>\n",
       "      <td>3887.641502</td>\n",
       "      <td>-1192.205641</td>\n",
       "      <td>-1192.205641</td>\n",
       "      <td>-1192.205641</td>\n",
       "      <td>-38.335288</td>\n",
       "      <td>-38.335288</td>\n",
       "      <td>-38.335288</td>\n",
       "      <td>-1153.870353</td>\n",
       "      <td>-1153.870353</td>\n",
       "      <td>-1153.870353</td>\n",
       "      <td>0.0</td>\n",
       "      <td>0.0</td>\n",
       "      <td>0.0</td>\n",
       "      <td>2695.435860</td>\n",
       "    </tr>\n",
       "    <tr>\n",
       "      <th>...</th>\n",
       "      <td>...</td>\n",
       "      <td>...</td>\n",
       "      <td>...</td>\n",
       "      <td>...</td>\n",
       "      <td>...</td>\n",
       "      <td>...</td>\n",
       "      <td>...</td>\n",
       "      <td>...</td>\n",
       "      <td>...</td>\n",
       "      <td>...</td>\n",
       "      <td>...</td>\n",
       "      <td>...</td>\n",
       "      <td>...</td>\n",
       "      <td>...</td>\n",
       "      <td>...</td>\n",
       "      <td>...</td>\n",
       "      <td>...</td>\n",
       "      <td>...</td>\n",
       "      <td>...</td>\n",
       "    </tr>\n",
       "    <tr>\n",
       "      <th>1275</th>\n",
       "      <td>2021-06-30</td>\n",
       "      <td>5317.640273</td>\n",
       "      <td>4824.223512</td>\n",
       "      <td>8338.947587</td>\n",
       "      <td>5306.872961</td>\n",
       "      <td>5328.328089</td>\n",
       "      <td>1273.346524</td>\n",
       "      <td>1273.346524</td>\n",
       "      <td>1273.346524</td>\n",
       "      <td>-4.710806</td>\n",
       "      <td>-4.710806</td>\n",
       "      <td>-4.710806</td>\n",
       "      <td>1278.057330</td>\n",
       "      <td>1278.057330</td>\n",
       "      <td>1278.057330</td>\n",
       "      <td>0.0</td>\n",
       "      <td>0.0</td>\n",
       "      <td>0.0</td>\n",
       "      <td>6590.986797</td>\n",
       "    </tr>\n",
       "    <tr>\n",
       "      <th>1276</th>\n",
       "      <td>2021-07-01</td>\n",
       "      <td>5318.822114</td>\n",
       "      <td>4893.907330</td>\n",
       "      <td>8292.385749</td>\n",
       "      <td>5307.968699</td>\n",
       "      <td>5329.576838</td>\n",
       "      <td>1295.204704</td>\n",
       "      <td>1295.204704</td>\n",
       "      <td>1295.204704</td>\n",
       "      <td>24.647268</td>\n",
       "      <td>24.647268</td>\n",
       "      <td>24.647268</td>\n",
       "      <td>1270.557435</td>\n",
       "      <td>1270.557435</td>\n",
       "      <td>1270.557435</td>\n",
       "      <td>0.0</td>\n",
       "      <td>0.0</td>\n",
       "      <td>0.0</td>\n",
       "      <td>6614.026817</td>\n",
       "    </tr>\n",
       "    <tr>\n",
       "      <th>1277</th>\n",
       "      <td>2021-07-02</td>\n",
       "      <td>5320.003955</td>\n",
       "      <td>4790.050703</td>\n",
       "      <td>8400.011920</td>\n",
       "      <td>5309.093568</td>\n",
       "      <td>5330.825587</td>\n",
       "      <td>1226.538521</td>\n",
       "      <td>1226.538521</td>\n",
       "      <td>1226.538521</td>\n",
       "      <td>-38.335288</td>\n",
       "      <td>-38.335288</td>\n",
       "      <td>-38.335288</td>\n",
       "      <td>1264.873809</td>\n",
       "      <td>1264.873809</td>\n",
       "      <td>1264.873809</td>\n",
       "      <td>0.0</td>\n",
       "      <td>0.0</td>\n",
       "      <td>0.0</td>\n",
       "      <td>6546.542476</td>\n",
       "    </tr>\n",
       "    <tr>\n",
       "      <th>1278</th>\n",
       "      <td>2021-07-03</td>\n",
       "      <td>5321.185796</td>\n",
       "      <td>5015.777933</td>\n",
       "      <td>8338.949947</td>\n",
       "      <td>5310.236070</td>\n",
       "      <td>5332.072754</td>\n",
       "      <td>1246.221588</td>\n",
       "      <td>1246.221588</td>\n",
       "      <td>1246.221588</td>\n",
       "      <td>-15.031535</td>\n",
       "      <td>-15.031535</td>\n",
       "      <td>-15.031535</td>\n",
       "      <td>1261.253124</td>\n",
       "      <td>1261.253124</td>\n",
       "      <td>1261.253124</td>\n",
       "      <td>0.0</td>\n",
       "      <td>0.0</td>\n",
       "      <td>0.0</td>\n",
       "      <td>6567.407384</td>\n",
       "    </tr>\n",
       "    <tr>\n",
       "      <th>1279</th>\n",
       "      <td>2021-07-04</td>\n",
       "      <td>5322.367637</td>\n",
       "      <td>4900.916460</td>\n",
       "      <td>8379.948364</td>\n",
       "      <td>5311.378572</td>\n",
       "      <td>5333.319743</td>\n",
       "      <td>1287.173880</td>\n",
       "      <td>1287.173880</td>\n",
       "      <td>1287.173880</td>\n",
       "      <td>27.307204</td>\n",
       "      <td>27.307204</td>\n",
       "      <td>27.307204</td>\n",
       "      <td>1259.866675</td>\n",
       "      <td>1259.866675</td>\n",
       "      <td>1259.866675</td>\n",
       "      <td>0.0</td>\n",
       "      <td>0.0</td>\n",
       "      <td>0.0</td>\n",
       "      <td>6609.541516</td>\n",
       "    </tr>\n",
       "  </tbody>\n",
       "</table>\n",
       "<p>1280 rows × 19 columns</p>\n",
       "</div>"
      ],
      "text/plain": [
       "             ds        trend   yhat_lower   yhat_upper  trend_lower  \\\n",
       "0    2018-01-01  3884.323862  1004.042199  4245.354944  3884.323862   \n",
       "1    2018-01-02  3885.153272   948.660742  4442.341275  3885.153272   \n",
       "2    2018-01-03  3885.982682   828.268327  4318.937338  3885.982682   \n",
       "3    2018-01-04  3886.812092   947.318744  4472.868860  3886.812092   \n",
       "4    2018-01-05  3887.641502   956.896905  4381.673170  3887.641502   \n",
       "...         ...          ...          ...          ...          ...   \n",
       "1275 2021-06-30  5317.640273  4824.223512  8338.947587  5306.872961   \n",
       "1276 2021-07-01  5318.822114  4893.907330  8292.385749  5307.968699   \n",
       "1277 2021-07-02  5320.003955  4790.050703  8400.011920  5309.093568   \n",
       "1278 2021-07-03  5321.185796  5015.777933  8338.949947  5310.236070   \n",
       "1279 2021-07-04  5322.367637  4900.916460  8379.948364  5311.378572   \n",
       "\n",
       "      trend_upper  additive_terms  additive_terms_lower  additive_terms_upper  \\\n",
       "0     3884.323862    -1220.485729          -1220.485729          -1220.485729   \n",
       "1     3885.153272    -1231.651966          -1231.651966          -1231.651966   \n",
       "2     3885.982682    -1203.469470          -1203.469470          -1203.469470   \n",
       "3     3886.812092    -1152.207848          -1152.207848          -1152.207848   \n",
       "4     3887.641502    -1192.205641          -1192.205641          -1192.205641   \n",
       "...           ...             ...                   ...                   ...   \n",
       "1275  5328.328089     1273.346524           1273.346524           1273.346524   \n",
       "1276  5329.576838     1295.204704           1295.204704           1295.204704   \n",
       "1277  5330.825587     1226.538521           1226.538521           1226.538521   \n",
       "1278  5332.072754     1246.221588           1246.221588           1246.221588   \n",
       "1279  5333.319743     1287.173880           1287.173880           1287.173880   \n",
       "\n",
       "         weekly  weekly_lower  weekly_upper       yearly  yearly_lower  \\\n",
       "0     18.334198     18.334198     18.334198 -1238.819927  -1238.819927   \n",
       "1    -12.211041    -12.211041    -12.211041 -1219.440925  -1219.440925   \n",
       "2     -4.710806     -4.710806     -4.710806 -1198.758664  -1198.758664   \n",
       "3     24.647268     24.647268     24.647268 -1176.855117  -1176.855117   \n",
       "4    -38.335288    -38.335288    -38.335288 -1153.870353  -1153.870353   \n",
       "...         ...           ...           ...          ...           ...   \n",
       "1275  -4.710806     -4.710806     -4.710806  1278.057330   1278.057330   \n",
       "1276  24.647268     24.647268     24.647268  1270.557435   1270.557435   \n",
       "1277 -38.335288    -38.335288    -38.335288  1264.873809   1264.873809   \n",
       "1278 -15.031535    -15.031535    -15.031535  1261.253124   1261.253124   \n",
       "1279  27.307204     27.307204     27.307204  1259.866675   1259.866675   \n",
       "\n",
       "      yearly_upper  multiplicative_terms  multiplicative_terms_lower  \\\n",
       "0     -1238.819927                   0.0                         0.0   \n",
       "1     -1219.440925                   0.0                         0.0   \n",
       "2     -1198.758664                   0.0                         0.0   \n",
       "3     -1176.855117                   0.0                         0.0   \n",
       "4     -1153.870353                   0.0                         0.0   \n",
       "...            ...                   ...                         ...   \n",
       "1275   1278.057330                   0.0                         0.0   \n",
       "1276   1270.557435                   0.0                         0.0   \n",
       "1277   1264.873809                   0.0                         0.0   \n",
       "1278   1261.253124                   0.0                         0.0   \n",
       "1279   1259.866675                   0.0                         0.0   \n",
       "\n",
       "      multiplicative_terms_upper         yhat  \n",
       "0                            0.0  2663.838133  \n",
       "1                            0.0  2653.501305  \n",
       "2                            0.0  2682.513212  \n",
       "3                            0.0  2734.604244  \n",
       "4                            0.0  2695.435860  \n",
       "...                          ...          ...  \n",
       "1275                         0.0  6590.986797  \n",
       "1276                         0.0  6614.026817  \n",
       "1277                         0.0  6546.542476  \n",
       "1278                         0.0  6567.407384  \n",
       "1279                         0.0  6609.541516  \n",
       "\n",
       "[1280 rows x 19 columns]"
      ]
     },
     "execution_count": 24,
     "metadata": {},
     "output_type": "execute_result"
    }
   ],
   "source": [
    "forecast"
   ]
  }
 ],
 "metadata": {
  "kernelspec": {
   "display_name": "Python 3 (ipykernel)",
   "language": "python",
   "name": "python3"
  },
  "language_info": {
   "codemirror_mode": {
    "name": "ipython",
    "version": 3
   },
   "file_extension": ".py",
   "mimetype": "text/x-python",
   "name": "python",
   "nbconvert_exporter": "python",
   "pygments_lexer": "ipython3",
   "version": "3.12.1"
  }
 },
 "nbformat": 4,
 "nbformat_minor": 2
}
